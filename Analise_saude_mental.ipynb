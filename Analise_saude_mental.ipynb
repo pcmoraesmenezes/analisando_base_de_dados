{
  "cells": [
    {
      "cell_type": "code",
      "execution_count": 2,
      "metadata": {
        "id": "Gpn4CBWxWD3l"
      },
      "outputs": [],
      "source": [
        "import pandas as pd"
      ]
    },
    {
      "cell_type": "code",
      "execution_count": 3,
      "metadata": {
        "colab": {
          "base_uri": "https://localhost:8080/"
        },
        "id": "TMm7JqpjWLxx",
        "outputId": "94fcc553-5a07-4855-8973-11144ab86448"
      },
      "outputs": [
        {
          "name": "stdout",
          "output_type": "stream",
          "text": [
            "(1259, 27)\n",
            "             Timestamp  Age  Gender         Country state self_employed  \\\n",
            "0  2014-08-27 11:29:31   37  Female   United States    IL           NaN   \n",
            "1  2014-08-27 11:29:37   44       M   United States    IN           NaN   \n",
            "2  2014-08-27 11:29:44   32    Male          Canada   NaN           NaN   \n",
            "3  2014-08-27 11:29:46   31    Male  United Kingdom   NaN           NaN   \n",
            "4  2014-08-27 11:30:22   31    Male   United States    TX           NaN   \n",
            "\n",
            "  family_history treatment work_interfere    no_employees  ...  \\\n",
            "0             No       Yes          Often            6-25  ...   \n",
            "1             No        No         Rarely  More than 1000  ...   \n",
            "2             No        No         Rarely            6-25  ...   \n",
            "3            Yes       Yes          Often          26-100  ...   \n",
            "4             No        No          Never         100-500  ...   \n",
            "\n",
            "                leave mental_health_consequence phys_health_consequence  \\\n",
            "0       Somewhat easy                        No                      No   \n",
            "1          Don't know                     Maybe                      No   \n",
            "2  Somewhat difficult                        No                      No   \n",
            "3  Somewhat difficult                       Yes                     Yes   \n",
            "4          Don't know                        No                      No   \n",
            "\n",
            "      coworkers supervisor mental_health_interview phys_health_interview  \\\n",
            "0  Some of them        Yes                      No                 Maybe   \n",
            "1            No         No                      No                    No   \n",
            "2           Yes        Yes                     Yes                   Yes   \n",
            "3  Some of them         No                   Maybe                 Maybe   \n",
            "4  Some of them        Yes                     Yes                   Yes   \n",
            "\n",
            "  mental_vs_physical obs_consequence comments  \n",
            "0                Yes              No      NaN  \n",
            "1         Don't know              No      NaN  \n",
            "2                 No              No      NaN  \n",
            "3                 No             Yes      NaN  \n",
            "4         Don't know              No      NaN  \n",
            "\n",
            "[5 rows x 27 columns]\n"
          ]
        }
      ],
      "source": [
        "df = pd.read_csv('survey.csv')\n",
        "print(df.shape)\n",
        "print(df.head())"
      ]
    },
    {
      "cell_type": "markdown",
      "metadata": {
        "id": "TRQKIwcXWXr5"
      },
      "source": [
        "Após a execução das linhas acima, observamos que temos, 1259 linhas, que são a quantidade de pessoas que participaram da entrevista e 27 colunas que são a quantidade de perguntas.\n",
        "\n",
        "Em sequência temos a exibição dos 5 primeiros valores da tabela."
      ]
    },
    {
      "cell_type": "code",
      "execution_count": 4,
      "metadata": {
        "colab": {
          "base_uri": "https://localhost:8080/"
        },
        "id": "mTTf5X3pWyIZ",
        "outputId": "8480b2cc-d88a-491d-dde7-178313c87afb"
      },
      "outputs": [
        {
          "data": {
            "text/plain": [
              "79428148.31135821"
            ]
          },
          "execution_count": 4,
          "metadata": {},
          "output_type": "execute_result"
        }
      ],
      "source": [
        "media = df['Age'].mean()\n",
        "media"
      ]
    },
    {
      "cell_type": "markdown",
      "metadata": {
        "id": "tOTM3ZOZW4lQ"
      },
      "source": [
        "Fazemos uma tentativa de calcular a média da idade das pessoas que participaram da entrevista, mas temos um valor absurdo na saída, vamos tentar descobrir o porque."
      ]
    },
    {
      "cell_type": "code",
      "execution_count": 5,
      "metadata": {
        "colab": {
          "base_uri": "https://localhost:8080/",
          "height": 342
        },
        "id": "iIGOG_hsXDRL",
        "outputId": "7380fad3-e1cc-45e3-9010-33f7660796fa"
      },
      "outputs": [
        {
          "data": {
            "text/html": [
              "<div>\n",
              "<style scoped>\n",
              "    .dataframe tbody tr th:only-of-type {\n",
              "        vertical-align: middle;\n",
              "    }\n",
              "\n",
              "    .dataframe tbody tr th {\n",
              "        vertical-align: top;\n",
              "    }\n",
              "\n",
              "    .dataframe thead th {\n",
              "        text-align: right;\n",
              "    }\n",
              "</style>\n",
              "<table border=\"1\" class=\"dataframe\">\n",
              "  <thead>\n",
              "    <tr style=\"text-align: right;\">\n",
              "      <th></th>\n",
              "      <th>Timestamp</th>\n",
              "      <th>Age</th>\n",
              "      <th>Gender</th>\n",
              "      <th>Country</th>\n",
              "      <th>state</th>\n",
              "      <th>self_employed</th>\n",
              "      <th>family_history</th>\n",
              "      <th>treatment</th>\n",
              "      <th>work_interfere</th>\n",
              "      <th>no_employees</th>\n",
              "      <th>...</th>\n",
              "      <th>leave</th>\n",
              "      <th>mental_health_consequence</th>\n",
              "      <th>phys_health_consequence</th>\n",
              "      <th>coworkers</th>\n",
              "      <th>supervisor</th>\n",
              "      <th>mental_health_interview</th>\n",
              "      <th>phys_health_interview</th>\n",
              "      <th>mental_vs_physical</th>\n",
              "      <th>obs_consequence</th>\n",
              "      <th>comments</th>\n",
              "    </tr>\n",
              "  </thead>\n",
              "  <tbody>\n",
              "    <tr>\n",
              "      <th>390</th>\n",
              "      <td>2014-08-27 15:24:47</td>\n",
              "      <td>99999999999</td>\n",
              "      <td>All</td>\n",
              "      <td>Zimbabwe</td>\n",
              "      <td>NaN</td>\n",
              "      <td>Yes</td>\n",
              "      <td>Yes</td>\n",
              "      <td>Yes</td>\n",
              "      <td>Often</td>\n",
              "      <td>1-5</td>\n",
              "      <td>...</td>\n",
              "      <td>Very difficult</td>\n",
              "      <td>Yes</td>\n",
              "      <td>Yes</td>\n",
              "      <td>No</td>\n",
              "      <td>No</td>\n",
              "      <td>Yes</td>\n",
              "      <td>No</td>\n",
              "      <td>No</td>\n",
              "      <td>Yes</td>\n",
              "      <td>NaN</td>\n",
              "    </tr>\n",
              "    <tr>\n",
              "      <th>364</th>\n",
              "      <td>2014-08-27 15:05:21</td>\n",
              "      <td>329</td>\n",
              "      <td>Male</td>\n",
              "      <td>United States</td>\n",
              "      <td>OH</td>\n",
              "      <td>No</td>\n",
              "      <td>No</td>\n",
              "      <td>Yes</td>\n",
              "      <td>Often</td>\n",
              "      <td>6-25</td>\n",
              "      <td>...</td>\n",
              "      <td>Don't know</td>\n",
              "      <td>Maybe</td>\n",
              "      <td>No</td>\n",
              "      <td>Some of them</td>\n",
              "      <td>No</td>\n",
              "      <td>No</td>\n",
              "      <td>No</td>\n",
              "      <td>No</td>\n",
              "      <td>No</td>\n",
              "      <td>NaN</td>\n",
              "    </tr>\n",
              "    <tr>\n",
              "      <th>1182</th>\n",
              "      <td>2014-10-02 21:25:16</td>\n",
              "      <td>72</td>\n",
              "      <td>Female</td>\n",
              "      <td>United States</td>\n",
              "      <td>IN</td>\n",
              "      <td>No</td>\n",
              "      <td>Yes</td>\n",
              "      <td>Yes</td>\n",
              "      <td>Never</td>\n",
              "      <td>500-1000</td>\n",
              "      <td>...</td>\n",
              "      <td>Somewhat easy</td>\n",
              "      <td>Maybe</td>\n",
              "      <td>Maybe</td>\n",
              "      <td>Some of them</td>\n",
              "      <td>Yes</td>\n",
              "      <td>No</td>\n",
              "      <td>No</td>\n",
              "      <td>Don't know</td>\n",
              "      <td>Yes</td>\n",
              "      <td>NaN</td>\n",
              "    </tr>\n",
              "    <tr>\n",
              "      <th>560</th>\n",
              "      <td>2014-08-27 19:17:07</td>\n",
              "      <td>65</td>\n",
              "      <td>Male</td>\n",
              "      <td>United States</td>\n",
              "      <td>FL</td>\n",
              "      <td>Yes</td>\n",
              "      <td>No</td>\n",
              "      <td>No</td>\n",
              "      <td>NaN</td>\n",
              "      <td>6-25</td>\n",
              "      <td>...</td>\n",
              "      <td>Very easy</td>\n",
              "      <td>Maybe</td>\n",
              "      <td>No</td>\n",
              "      <td>Some of them</td>\n",
              "      <td>No</td>\n",
              "      <td>No</td>\n",
              "      <td>No</td>\n",
              "      <td>Yes</td>\n",
              "      <td>No</td>\n",
              "      <td>NaN</td>\n",
              "    </tr>\n",
              "    <tr>\n",
              "      <th>520</th>\n",
              "      <td>2014-08-27 17:12:01</td>\n",
              "      <td>62</td>\n",
              "      <td>M</td>\n",
              "      <td>United States</td>\n",
              "      <td>CA</td>\n",
              "      <td>No</td>\n",
              "      <td>No</td>\n",
              "      <td>No</td>\n",
              "      <td>Never</td>\n",
              "      <td>More than 1000</td>\n",
              "      <td>...</td>\n",
              "      <td>Don't know</td>\n",
              "      <td>Maybe</td>\n",
              "      <td>No</td>\n",
              "      <td>Some of them</td>\n",
              "      <td>Yes</td>\n",
              "      <td>Maybe</td>\n",
              "      <td>Maybe</td>\n",
              "      <td>Yes</td>\n",
              "      <td>No</td>\n",
              "      <td>NaN</td>\n",
              "    </tr>\n",
              "  </tbody>\n",
              "</table>\n",
              "<p>5 rows × 27 columns</p>\n",
              "</div>"
            ],
            "text/plain": [
              "                Timestamp          Age  Gender        Country state  \\\n",
              "390   2014-08-27 15:24:47  99999999999     All       Zimbabwe   NaN   \n",
              "364   2014-08-27 15:05:21          329    Male  United States    OH   \n",
              "1182  2014-10-02 21:25:16           72  Female  United States    IN   \n",
              "560   2014-08-27 19:17:07           65    Male  United States    FL   \n",
              "520   2014-08-27 17:12:01           62       M  United States    CA   \n",
              "\n",
              "     self_employed family_history treatment work_interfere    no_employees  \\\n",
              "390            Yes            Yes       Yes          Often             1-5   \n",
              "364             No             No       Yes          Often            6-25   \n",
              "1182            No            Yes       Yes          Never        500-1000   \n",
              "560            Yes             No        No            NaN            6-25   \n",
              "520             No             No        No          Never  More than 1000   \n",
              "\n",
              "      ...           leave mental_health_consequence phys_health_consequence  \\\n",
              "390   ...  Very difficult                       Yes                     Yes   \n",
              "364   ...      Don't know                     Maybe                      No   \n",
              "1182  ...   Somewhat easy                     Maybe                   Maybe   \n",
              "560   ...       Very easy                     Maybe                      No   \n",
              "520   ...      Don't know                     Maybe                      No   \n",
              "\n",
              "         coworkers supervisor mental_health_interview phys_health_interview  \\\n",
              "390             No         No                     Yes                    No   \n",
              "364   Some of them         No                      No                    No   \n",
              "1182  Some of them        Yes                      No                    No   \n",
              "560   Some of them         No                      No                    No   \n",
              "520   Some of them        Yes                   Maybe                 Maybe   \n",
              "\n",
              "     mental_vs_physical obs_consequence comments  \n",
              "390                  No             Yes      NaN  \n",
              "364                  No              No      NaN  \n",
              "1182         Don't know             Yes      NaN  \n",
              "560                 Yes              No      NaN  \n",
              "520                 Yes              No      NaN  \n",
              "\n",
              "[5 rows x 27 columns]"
            ]
          },
          "execution_count": 5,
          "metadata": {},
          "output_type": "execute_result"
        }
      ],
      "source": [
        "df_sorted = df.sort_values(by='Age', ascending=False)\n",
        "maiores_idades = df_sorted.head(5)\n",
        "maiores_idades"
      ]
    },
    {
      "cell_type": "markdown",
      "metadata": {
        "id": "XdYk52PAXMS4"
      },
      "source": [
        "Após exibirmos as pessoas com as maiores idades, vemos que temos duas pessoas com valores exurbitantes."
      ]
    },
    {
      "cell_type": "code",
      "execution_count": 6,
      "metadata": {
        "id": "tEXWYHguXWxw"
      },
      "outputs": [],
      "source": [
        "df = df[df['Age'] <= 100]\n"
      ]
    },
    {
      "cell_type": "markdown",
      "metadata": {
        "id": "SN724nnuXeoH"
      },
      "source": [
        "Vamos verificar agora as menores idades, afim de remover valores absurdos"
      ]
    },
    {
      "cell_type": "code",
      "execution_count": 7,
      "metadata": {
        "colab": {
          "base_uri": "https://localhost:8080/",
          "height": 412
        },
        "id": "30QhWdgeXfV5",
        "outputId": "0afb1971-a7f0-49de-cfd4-f4b70c4a87e3"
      },
      "outputs": [
        {
          "data": {
            "text/html": [
              "<div>\n",
              "<style scoped>\n",
              "    .dataframe tbody tr th:only-of-type {\n",
              "        vertical-align: middle;\n",
              "    }\n",
              "\n",
              "    .dataframe tbody tr th {\n",
              "        vertical-align: top;\n",
              "    }\n",
              "\n",
              "    .dataframe thead th {\n",
              "        text-align: right;\n",
              "    }\n",
              "</style>\n",
              "<table border=\"1\" class=\"dataframe\">\n",
              "  <thead>\n",
              "    <tr style=\"text-align: right;\">\n",
              "      <th></th>\n",
              "      <th>Timestamp</th>\n",
              "      <th>Age</th>\n",
              "      <th>Gender</th>\n",
              "      <th>Country</th>\n",
              "      <th>state</th>\n",
              "      <th>self_employed</th>\n",
              "      <th>family_history</th>\n",
              "      <th>treatment</th>\n",
              "      <th>work_interfere</th>\n",
              "      <th>no_employees</th>\n",
              "      <th>...</th>\n",
              "      <th>leave</th>\n",
              "      <th>mental_health_consequence</th>\n",
              "      <th>phys_health_consequence</th>\n",
              "      <th>coworkers</th>\n",
              "      <th>supervisor</th>\n",
              "      <th>mental_health_interview</th>\n",
              "      <th>phys_health_interview</th>\n",
              "      <th>mental_vs_physical</th>\n",
              "      <th>obs_consequence</th>\n",
              "      <th>comments</th>\n",
              "    </tr>\n",
              "  </thead>\n",
              "  <tbody>\n",
              "    <tr>\n",
              "      <th>715</th>\n",
              "      <td>2014-08-28 10:07:53</td>\n",
              "      <td>-1726</td>\n",
              "      <td>male</td>\n",
              "      <td>United Kingdom</td>\n",
              "      <td>NaN</td>\n",
              "      <td>No</td>\n",
              "      <td>No</td>\n",
              "      <td>Yes</td>\n",
              "      <td>Sometimes</td>\n",
              "      <td>26-100</td>\n",
              "      <td>...</td>\n",
              "      <td>Somewhat difficult</td>\n",
              "      <td>Yes</td>\n",
              "      <td>No</td>\n",
              "      <td>No</td>\n",
              "      <td>No</td>\n",
              "      <td>No</td>\n",
              "      <td>Maybe</td>\n",
              "      <td>Don't know</td>\n",
              "      <td>No</td>\n",
              "      <td>NaN</td>\n",
              "    </tr>\n",
              "    <tr>\n",
              "      <th>143</th>\n",
              "      <td>2014-08-27 12:39:14</td>\n",
              "      <td>-29</td>\n",
              "      <td>Male</td>\n",
              "      <td>United States</td>\n",
              "      <td>MN</td>\n",
              "      <td>No</td>\n",
              "      <td>No</td>\n",
              "      <td>No</td>\n",
              "      <td>NaN</td>\n",
              "      <td>More than 1000</td>\n",
              "      <td>...</td>\n",
              "      <td>Don't know</td>\n",
              "      <td>No</td>\n",
              "      <td>No</td>\n",
              "      <td>Some of them</td>\n",
              "      <td>Yes</td>\n",
              "      <td>No</td>\n",
              "      <td>No</td>\n",
              "      <td>Don't know</td>\n",
              "      <td>No</td>\n",
              "      <td>NaN</td>\n",
              "    </tr>\n",
              "    <tr>\n",
              "      <th>1127</th>\n",
              "      <td>2014-08-30 20:55:11</td>\n",
              "      <td>-1</td>\n",
              "      <td>p</td>\n",
              "      <td>United States</td>\n",
              "      <td>AL</td>\n",
              "      <td>Yes</td>\n",
              "      <td>Yes</td>\n",
              "      <td>Yes</td>\n",
              "      <td>Often</td>\n",
              "      <td>1-5</td>\n",
              "      <td>...</td>\n",
              "      <td>Very easy</td>\n",
              "      <td>Yes</td>\n",
              "      <td>Yes</td>\n",
              "      <td>Yes</td>\n",
              "      <td>Yes</td>\n",
              "      <td>Yes</td>\n",
              "      <td>Yes</td>\n",
              "      <td>Yes</td>\n",
              "      <td>Yes</td>\n",
              "      <td>password: testered</td>\n",
              "    </tr>\n",
              "    <tr>\n",
              "      <th>734</th>\n",
              "      <td>2014-08-28 10:35:55</td>\n",
              "      <td>5</td>\n",
              "      <td>Male</td>\n",
              "      <td>United States</td>\n",
              "      <td>OH</td>\n",
              "      <td>No</td>\n",
              "      <td>No</td>\n",
              "      <td>No</td>\n",
              "      <td>NaN</td>\n",
              "      <td>100-500</td>\n",
              "      <td>...</td>\n",
              "      <td>Somewhat easy</td>\n",
              "      <td>No</td>\n",
              "      <td>No</td>\n",
              "      <td>Yes</td>\n",
              "      <td>Yes</td>\n",
              "      <td>No</td>\n",
              "      <td>No</td>\n",
              "      <td>Yes</td>\n",
              "      <td>No</td>\n",
              "      <td>We had a developer suffer from depression and ...</td>\n",
              "    </tr>\n",
              "    <tr>\n",
              "      <th>989</th>\n",
              "      <td>2014-08-29 09:10:58</td>\n",
              "      <td>8</td>\n",
              "      <td>A little about you</td>\n",
              "      <td>Bahamas, The</td>\n",
              "      <td>IL</td>\n",
              "      <td>Yes</td>\n",
              "      <td>Yes</td>\n",
              "      <td>Yes</td>\n",
              "      <td>Often</td>\n",
              "      <td>1-5</td>\n",
              "      <td>...</td>\n",
              "      <td>Very easy</td>\n",
              "      <td>Yes</td>\n",
              "      <td>Yes</td>\n",
              "      <td>Yes</td>\n",
              "      <td>Yes</td>\n",
              "      <td>Yes</td>\n",
              "      <td>Yes</td>\n",
              "      <td>Yes</td>\n",
              "      <td>Yes</td>\n",
              "      <td></td>\n",
              "    </tr>\n",
              "  </tbody>\n",
              "</table>\n",
              "<p>5 rows × 27 columns</p>\n",
              "</div>"
            ],
            "text/plain": [
              "                Timestamp   Age              Gender         Country state  \\\n",
              "715   2014-08-28 10:07:53 -1726                male  United Kingdom   NaN   \n",
              "143   2014-08-27 12:39:14   -29                Male   United States    MN   \n",
              "1127  2014-08-30 20:55:11    -1                   p   United States    AL   \n",
              "734   2014-08-28 10:35:55     5                Male   United States    OH   \n",
              "989   2014-08-29 09:10:58     8  A little about you    Bahamas, The    IL   \n",
              "\n",
              "     self_employed family_history treatment work_interfere    no_employees  \\\n",
              "715             No             No       Yes      Sometimes          26-100   \n",
              "143             No             No        No            NaN  More than 1000   \n",
              "1127           Yes            Yes       Yes          Often             1-5   \n",
              "734             No             No        No            NaN         100-500   \n",
              "989            Yes            Yes       Yes          Often             1-5   \n",
              "\n",
              "      ...               leave mental_health_consequence  \\\n",
              "715   ...  Somewhat difficult                       Yes   \n",
              "143   ...          Don't know                        No   \n",
              "1127  ...           Very easy                       Yes   \n",
              "734   ...       Somewhat easy                        No   \n",
              "989   ...           Very easy                       Yes   \n",
              "\n",
              "     phys_health_consequence     coworkers supervisor mental_health_interview  \\\n",
              "715                       No            No         No                      No   \n",
              "143                       No  Some of them        Yes                      No   \n",
              "1127                     Yes           Yes        Yes                     Yes   \n",
              "734                       No           Yes        Yes                      No   \n",
              "989                      Yes           Yes        Yes                     Yes   \n",
              "\n",
              "     phys_health_interview mental_vs_physical obs_consequence  \\\n",
              "715                  Maybe         Don't know              No   \n",
              "143                     No         Don't know              No   \n",
              "1127                   Yes                Yes             Yes   \n",
              "734                     No                Yes              No   \n",
              "989                    Yes                Yes             Yes   \n",
              "\n",
              "                                               comments  \n",
              "715                                                 NaN  \n",
              "143                                                 NaN  \n",
              "1127                                 password: testered  \n",
              "734   We had a developer suffer from depression and ...  \n",
              "989                                                      \n",
              "\n",
              "[5 rows x 27 columns]"
            ]
          },
          "execution_count": 7,
          "metadata": {},
          "output_type": "execute_result"
        }
      ],
      "source": [
        "df_sorted = df.sort_values(by='Age', ascending=True)\n",
        "\n",
        "menores_idades = df_sorted.head(5)\n",
        "menores_idades"
      ]
    },
    {
      "cell_type": "markdown",
      "metadata": {
        "id": "6CBT2Eh6Xynf"
      },
      "source": [
        "Observamos que existem pessoas com idades negativas, e menores de idade, devido a base de dados se tratar sobre pessoas adultas a idade não pode ser menor que 18. Removendo esses valores:"
      ]
    },
    {
      "cell_type": "code",
      "execution_count": 8,
      "metadata": {
        "id": "hRDGutTmXcyd"
      },
      "outputs": [],
      "source": [
        "df = df[(df['Age'] >= 0) & (df['Age'] >= 18)]\n"
      ]
    },
    {
      "cell_type": "code",
      "execution_count": 9,
      "metadata": {
        "colab": {
          "base_uri": "https://localhost:8080/"
        },
        "id": "f3tInukpYGCy",
        "outputId": "798a2c71-c5f4-46a6-8c15-8817a5ab4a11"
      },
      "outputs": [
        {
          "data": {
            "text/plain": [
              "32.07673860911271"
            ]
          },
          "execution_count": 9,
          "metadata": {},
          "output_type": "execute_result"
        }
      ],
      "source": [
        "media = df['Age'].mean()\n",
        "media"
      ]
    },
    {
      "cell_type": "markdown",
      "metadata": {
        "id": "8_vCxnj5YJLZ"
      },
      "source": [
        "Obtemos agora uma média mais próxima da realidade."
      ]
    },
    {
      "cell_type": "code",
      "execution_count": 10,
      "metadata": {
        "colab": {
          "base_uri": "https://localhost:8080/",
          "height": 472
        },
        "id": "tcQks5JjYux9",
        "outputId": "70cc3f7f-8ec3-4884-a413-f3f21b909d9c"
      },
      "outputs": [
        {
          "data": {
            "image/png": "[encoded data removed]",
            "text/plain": [
              "<Figure size 640x480 with 1 Axes>"
            ]
          },
          "metadata": {},
          "output_type": "display_data"
        }
      ],
      "source": [
        "import matplotlib.pyplot as plt\n",
        "\n",
        "plt.hist(df['Age'], bins=20, color='blue', alpha=0.7)\n",
        "plt.xlabel('Idade')\n",
        "plt.ylabel('Frequência')\n",
        "plt.title('Distribuição de Idades')\n",
        "\n",
        "plt.show()\n"
      ]
    },
    {
      "cell_type": "markdown",
      "metadata": {
        "id": "J_zGq7_YY4ah"
      },
      "source": [
        "A maior parte das pessoas que responderam a pesquisa tem entre 20 a 40 anos de idade"
      ]
    },
    {
      "cell_type": "code",
      "execution_count": 11,
      "metadata": {
        "colab": {
          "base_uri": "https://localhost:8080/"
        },
        "id": "dD51JZmRZRJo",
        "outputId": "8937d7a7-e640-4251-cba5-b82b12dc993c"
      },
      "outputs": [
        {
          "name": "stdout",
          "output_type": "stream",
          "text": [
            "Gender\n",
            "Male                                              612\n",
            "male                                              204\n",
            "Female                                            121\n",
            "M                                                 116\n",
            "female                                             62\n",
            "F                                                  38\n",
            "m                                                  34\n",
            "f                                                  15\n",
            "Make                                                4\n",
            "Woman                                               3\n",
            "Male                                                3\n",
            "Female                                              2\n",
            "Cis Male                                            2\n",
            "Man                                                 2\n",
            "Female (trans)                                      2\n",
            "Malr                                                1\n",
            "Trans woman                                         1\n",
            "male leaning androgynous                            1\n",
            "Cis Man                                             1\n",
            "Neuter                                              1\n",
            "msle                                                1\n",
            "cis male                                            1\n",
            "queer                                               1\n",
            "Female (cis)                                        1\n",
            "cis-female/femme                                    1\n",
            "Mail                                                1\n",
            "femail                                              1\n",
            "Guy (-ish) ^_^                                      1\n",
            "Enby                                                1\n",
            "Agender                                             1\n",
            "Male (CIS)                                          1\n",
            "Male-ish                                            1\n",
            "maile                                               1\n",
            "Trans-female                                        1\n",
            "Cis Female                                          1\n",
            "something kinda male?                               1\n",
            "Mal                                                 1\n",
            "queer/she/they                                      1\n",
            "Androgyne                                           1\n",
            "non-binary                                          1\n",
            "Femake                                              1\n",
            "woman                                               1\n",
            "Nah                                                 1\n",
            "fluid                                               1\n",
            "Genderqueer                                         1\n",
            "ostensibly male, unsure what that really means      1\n",
            "Name: count, dtype: int64\n"
          ]
        }
      ],
      "source": [
        "contagem_genero = df['Gender'].value_counts()\n",
        "\n",
        "contagem_genero\n"
      ]
    },
    {
      "cell_type": "markdown",
      "metadata": {
        "id": "H-tuSqYJyFlo"
      },
      "source": [
        "Observa-se que existem algumas formas de representar o mesmo sexo que foram separadas de maneira diferente, como por exemplo male e Male"
      ]
    },
    {
      "cell_type": "markdown",
      "metadata": {
        "id": "wgTsHVGiY4k-"
      },
      "source": []
    },
    {
      "cell_type": "code",
      "execution_count": 12,
      "metadata": {
        "colab": {
          "base_uri": "https://localhost:8080/"
        },
        "id": "Q8VCHd_JZkPG",
        "outputId": "c21098e1-399f-403f-e062-458359963cda"
      },
      "outputs": [
        {
          "data": {
            "text/plain": [
              "Gender\n",
              "Male      995\n",
              "Female    253\n",
              "Outros      3\n",
              "Name: count, dtype: int64"
            ]
          },
          "execution_count": 12,
          "metadata": {},
          "output_type": "execute_result"
        }
      ],
      "source": [
        "\n",
        "# Criar uma função para mapear os gêneros\n",
        "def mapear_genero(valor):\n",
        "    valor = str(valor).strip().lower()\n",
        "    if valor in ['male', 'm', 'man', 'make', 'malr', 'mail', 'maile', 'mal', 'guy (-ish) ^_^', 'enby', 'androgyne', 'male-ish', 'cis male', 'cis man', 'msle', 'trans-female', 'male (cis)', 'nah', 'ostensibly male, unsure what that really means', 'fluid', 'cis male', 'something kinda male?', 'genderqueer']:\n",
        "        return 'Male'\n",
        "    elif valor in ['female', 'f', 'woman', 'female (trans)', 'female (cis)', 'femail', 'woman', 'femake', 'cis female', 'queer/she/they', 'non-binary', 'queer', 'neuter', 'agender']:\n",
        "        return 'Female'\n",
        "    else:\n",
        "        return 'Outros'\n",
        "\n",
        "# Aplicar o mapeamento ao DataFrame\n",
        "df['Gender'] = df['Gender'].apply(mapear_genero)\n",
        "\n",
        "# Contagem do número de pessoas por gênero\n",
        "contagem_genero = df['Gender'].value_counts()\n",
        "\n",
        "# Exibir a tabela de contagem\n",
        "contagem_genero"
      ]
    },
    {
      "cell_type": "markdown",
      "metadata": {
        "id": "Xfxnnc9AyaXE"
      },
      "source": [
        "Com essa função divide-se os genêros em 3, fazendo um agrupamento com os possíveis digitos que sofrem distinções, mas que representam a mesma coisa.\n",
        "\n",
        "\n",
        "\n"
      ]
    },
    {
      "cell_type": "code",
      "execution_count": 13,
      "metadata": {
        "colab": {
          "base_uri": "https://localhost:8080/",
          "height": 508
        },
        "id": "CBEuJe-MeEz_",
        "outputId": "2f0799d8-c399-468f-c095-117334e0bfd6"
      },
      "outputs": [
        {
          "data": {
            "image/png": "[encoded data removed]",
            "text/plain": [
              "<Figure size 640x480 with 1 Axes>"
            ]
          },
          "metadata": {},
          "output_type": "display_data"
        }
      ],
      "source": [
        "contagem_genero.plot(kind='bar', color=['blue', 'red', 'green'])\n",
        "plt.xlabel('Gênero')\n",
        "plt.ylabel('Frequência')\n",
        "plt.title('Distribuição de Gêneros')\n",
        "plt.show()\n"
      ]
    },
    {
      "cell_type": "markdown",
      "metadata": {
        "id": "XJCrgV6W02Ge"
      },
      "source": [
        "O que sabemos sobre essa base de dados até agora é que, a maior parte das pessoas que responderam a pesquisa tem entre 20 a 40 anos.\n",
        "\n",
        "Além disso a maioria das pessoas é do gênero masculino."
      ]
    },
    {
      "cell_type": "markdown",
      "metadata": {
        "id": "ewGY7Jbk1aZk"
      },
      "source": [
        "O foco agora será abordar o indíviduo, entender onde mora e as respostas envolvendo saúde mental fora do ambito de trabalho"
      ]
    },
    {
      "cell_type": "code",
      "execution_count": 14,
      "metadata": {
        "colab": {
          "base_uri": "https://localhost:8080/"
        },
        "id": "qVua82UE2Q-r",
        "outputId": "627eec5a-3d78-420a-a790-9b8e5fd42517"
      },
      "outputs": [
        {
          "data": {
            "text/plain": [
              "family_history\n",
              "No     762\n",
              "Yes    489\n",
              "Name: count, dtype: int64"
            ]
          },
          "execution_count": 14,
          "metadata": {},
          "output_type": "execute_result"
        }
      ],
      "source": [
        "contagem_historico_familiar = df['family_history'].value_counts()\n",
        "contagem_historico_familiar"
      ]
    },
    {
      "cell_type": "code",
      "execution_count": 15,
      "metadata": {
        "colab": {
          "base_uri": "https://localhost:8080/"
        },
        "id": "Jo2lo1ar28Gk",
        "outputId": "cc21a359-3b8f-4a0d-8e70-89ad84bd8c5f"
      },
      "outputs": [
        {
          "data": {
            "text/plain": [
              "treatment\n",
              "Yes    632\n",
              "No     619\n",
              "Name: count, dtype: int64"
            ]
          },
          "execution_count": 15,
          "metadata": {},
          "output_type": "execute_result"
        }
      ],
      "source": [
        "contagem_busca_tratamento = df['treatment'].value_counts()\n",
        "contagem_busca_tratamento"
      ]
    },
    {
      "cell_type": "markdown",
      "metadata": {
        "id": "uv5_iQAm3IoX"
      },
      "source": [
        "Em uma analise inicial, temos que 762 pessoas não tem historico familiar relacionados a condição de saúde mental, já 489 possuem.\n",
        "\n",
        "Temos também que 632 pessoas já buscaram tratamento, enquanto que 619 não buscaram tratamento."
      ]
    },
    {
      "cell_type": "code",
      "execution_count": 16,
      "metadata": {
        "colab": {
          "base_uri": "https://localhost:8080/"
        },
        "id": "Ie2-nJfC3cT3",
        "outputId": "f5df4e32-ecc2-4e7d-e206-5544f464ed76"
      },
      "outputs": [
        {
          "data": {
            "text/plain": [
              "362"
            ]
          },
          "execution_count": 16,
          "metadata": {},
          "output_type": "execute_result"
        }
      ],
      "source": [
        "pessoas_com_historico_e_tratamento = df[(df['family_history'] == 'Yes') & (df['treatment'] == 'Yes')]\n",
        "\n",
        "contagem_pessoas = pessoas_com_historico_e_tratamento.shape[0]\n",
        "\n",
        "contagem_pessoas\n"
      ]
    },
    {
      "cell_type": "code",
      "execution_count": 17,
      "metadata": {
        "colab": {
          "base_uri": "https://localhost:8080/"
        },
        "id": "ddQ2V8MO4Bnn",
        "outputId": "9b934d1f-e5d7-4149-a5f2-c19bd7e67e5b"
      },
      "outputs": [
        {
          "name": "stdout",
          "output_type": "stream",
          "text": [
            "Número de pessoas do sexo masculino com histórico familiar e que buscaram tratamento: 253\n"
          ]
        }
      ],
      "source": [
        "pessoas_do_sexo_masculino_que_buscaram_tratamento_e_tem_historico = df[(df['family_history'] == 'Yes') & (df['treatment'] == 'Yes') & (df['Gender'] == 'Male')]\n",
        "\n",
        "contagem_pessoas_masculinas = pessoas_do_sexo_masculino_que_buscaram_tratamento_e_tem_historico.shape[0]\n",
        "\n",
        "print(\"Número de pessoas do sexo masculino com histórico familiar e que buscaram tratamento:\", contagem_pessoas_masculinas)\n"
      ]
    },
    {
      "cell_type": "markdown",
      "metadata": {
        "id": "ltqjgbqw5fFR"
      },
      "source": [
        "De 362 pessoas com histórico familiar e que buscaram tratamento, 253 são do gênero masculino.  Ou seja aproximadamente 70%."
      ]
    },
    {
      "cell_type": "code",
      "execution_count": 18,
      "metadata": {
        "colab": {
          "base_uri": "https://localhost:8080/"
        },
        "id": "5lhTXt7Veayl",
        "outputId": "1eb7a343-0cb9-422e-d5c0-b4fb6c2b33ec"
      },
      "outputs": [
        {
          "data": {
            "text/plain": [
              "Country\n",
              "United States             746\n",
              "United Kingdom            184\n",
              "Canada                     72\n",
              "Germany                    45\n",
              "Netherlands                27\n",
              "Ireland                    27\n",
              "Australia                  21\n",
              "France                     13\n",
              "India                      10\n",
              "New Zealand                 8\n",
              "Italy                       7\n",
              "Poland                      7\n",
              "Sweden                      7\n",
              "Switzerland                 7\n",
              "South Africa                6\n",
              "Belgium                     6\n",
              "Brazil                      6\n",
              "Israel                      5\n",
              "Singapore                   4\n",
              "Bulgaria                    4\n",
              "Mexico                      3\n",
              "Russia                      3\n",
              "Finland                     3\n",
              "Austria                     3\n",
              "Denmark                     2\n",
              "Greece                      2\n",
              "Portugal                    2\n",
              "Colombia                    2\n",
              "Croatia                     2\n",
              "Moldova                     1\n",
              "Georgia                     1\n",
              "China                       1\n",
              "Thailand                    1\n",
              "Czech Republic              1\n",
              "Norway                      1\n",
              "Latvia                      1\n",
              "Nigeria                     1\n",
              "Japan                       1\n",
              "Hungary                     1\n",
              "Bosnia and Herzegovina      1\n",
              "Uruguay                     1\n",
              "Spain                       1\n",
              "Romania                     1\n",
              "Costa Rica                  1\n",
              "Slovenia                    1\n",
              "Philippines                 1\n",
              "Name: count, dtype: int64"
            ]
          },
          "execution_count": 18,
          "metadata": {},
          "output_type": "execute_result"
        }
      ],
      "source": [
        "contagem_pais = df['Country'].value_counts()\n",
        "contagem_pais"
      ]
    },
    {
      "cell_type": "code",
      "execution_count": 19,
      "metadata": {
        "colab": {
          "base_uri": "https://localhost:8080/"
        },
        "id": "ENEEIrNiev1m",
        "outputId": "de370d37-0c77-4b5d-c2aa-9132c124adcb"
      },
      "outputs": [
        {
          "name": "stdout",
          "output_type": "stream",
          "text": [
            "Gender                  Female  Male  Outros\n",
            "Country                                     \n",
            "Australia                    5    16       0\n",
            "Austria                      0     3       0\n",
            "Belgium                      2     4       0\n",
            "Bosnia and Herzegovina       0     1       0\n",
            "Brazil                       0     6       0\n",
            "Bulgaria                     1     3       0\n",
            "Canada                      14    57       1\n",
            "China                        0     1       0\n",
            "Colombia                     0     2       0\n",
            "Costa Rica                   0     1       0\n",
            "Croatia                      0     2       0\n",
            "Czech Republic               0     1       0\n",
            "Denmark                      0     2       0\n",
            "Finland                      0     3       0\n",
            "France                       0    13       0\n",
            "Georgia                      0     1       0\n",
            "Germany                      2    43       0\n",
            "Greece                       0     2       0\n",
            "Hungary                      1     0       0\n",
            "India                        2     8       0\n",
            "Ireland                      4    23       0\n",
            "Israel                       1     4       0\n",
            "Italy                        0     7       0\n",
            "Japan                        0     1       0\n",
            "Latvia                       0     1       0\n",
            "Mexico                       0     3       0\n",
            "Moldova                      0     1       0\n",
            "Netherlands                  3    24       0\n",
            "New Zealand                  1     7       0\n",
            "Nigeria                      0     1       0\n",
            "Norway                       0     1       0\n",
            "Philippines                  0     1       0\n",
            "Poland                       1     6       0\n",
            "Portugal                     0     2       0\n",
            "Romania                      0     1       0\n",
            "Russia                       0     3       0\n",
            "Singapore                    0     4       0\n",
            "Slovenia                     0     1       0\n",
            "South Africa                 1     5       0\n",
            "Spain                        1     0       0\n",
            "Sweden                       2     5       0\n",
            "Switzerland                  1     6       0\n",
            "Thailand                     0     1       0\n",
            "United Kingdom              28   156       0\n",
            "United States              183   561       2\n",
            "Uruguay                      0     1       0\n"
          ]
        }
      ],
      "source": [
        "tabela_contingencia = pd.crosstab(df['Country'], df['Gender'])\n",
        "print(tabela_contingencia)\n"
      ]
    },
    {
      "cell_type": "code",
      "execution_count": 20,
      "metadata": {
        "colab": {
          "base_uri": "https://localhost:8080/"
        },
        "id": "M4xvK9D87k9J",
        "outputId": "c80ce913-1622-4911-b93f-cb45b3d0ce44"
      },
      "outputs": [
        {
          "name": "stdout",
          "output_type": "stream",
          "text": [
            "Country\n",
            "United States     249\n",
            "United Kingdom     40\n",
            "Canada             22\n",
            "Germany            13\n",
            "Australia           9\n",
            "Ireland             5\n",
            "Netherlands         4\n",
            "South Africa        3\n",
            "Denmark             2\n",
            "Switzerland         2\n",
            "New Zealand         2\n",
            "Poland              2\n",
            "Sweden              1\n",
            "Japan               1\n",
            "Belgium             1\n",
            "India               1\n",
            "Brazil              1\n",
            "Mexico              1\n",
            "Italy               1\n",
            "Croatia             1\n",
            "Singapore           1\n",
            "Name: count, dtype: int64\n"
          ]
        }
      ],
      "source": [
        "pessoas_com_historico_e_tratamento = df[(df['family_history'] == 'Yes') & (df['treatment'] == 'Yes')]\n",
        "\n",
        "\n",
        "contagem_regioes = pessoas_com_historico_e_tratamento['Country'].value_counts()\n",
        "\n",
        "contagem_regioes\n"
      ]
    },
    {
      "cell_type": "code",
      "execution_count": 21,
      "metadata": {
        "colab": {
          "base_uri": "https://localhost:8080/",
          "height": 570
        },
        "id": "S0W0pic47s5b",
        "outputId": "f8662568-98be-4931-ccc8-8799b76117f7"
      },
      "outputs": [
        {
          "data": {
            "image/png": "[encoded data removed]",
            "text/plain": [
              "<Figure size 640x480 with 1 Axes>"
            ]
          },
          "metadata": {},
          "output_type": "display_data"
        }
      ],
      "source": [
        "contagem_regioes.plot(kind='bar', color='purple')\n",
        "plt.xlabel('Região (País)')\n",
        "plt.ylabel('Número de Pessoas')\n",
        "plt.title('Distribuição de Pessoas com Histórico Familiar e Tratamento por Região')\n",
        "plt.show()\n"
      ]
    },
    {
      "cell_type": "code",
      "execution_count": 22,
      "metadata": {
        "colab": {
          "base_uri": "https://localhost:8080/"
        },
        "id": "xIjyFbRz7-EQ",
        "outputId": "5d4642ef-95ed-4c21-cbfb-754a739141f9"
      },
      "outputs": [
        {
          "data": {
            "text/plain": [
              "state\n",
              "CA    138\n",
              "WA     70\n",
              "NY     57\n",
              "TN     45\n",
              "TX     44\n",
              "OR     29\n",
              "PA     29\n",
              "IL     28\n",
              "IN     27\n",
              "OH     27\n",
              "MI     22\n",
              "MN     20\n",
              "MA     20\n",
              "FL     15\n",
              "NC     14\n",
              "VA     14\n",
              "WI     12\n",
              "GA     12\n",
              "MO     12\n",
              "UT     11\n",
              "CO      9\n",
              "MD      8\n",
              "AL      7\n",
              "AZ      7\n",
              "OK      6\n",
              "NJ      6\n",
              "KY      5\n",
              "SC      5\n",
              "IA      4\n",
              "CT      4\n",
              "DC      4\n",
              "NV      3\n",
              "VT      3\n",
              "SD      3\n",
              "KS      3\n",
              "NH      3\n",
              "WY      2\n",
              "NM      2\n",
              "NE      2\n",
              "WV      1\n",
              "ID      1\n",
              "MS      1\n",
              "RI      1\n",
              "LA      1\n",
              "ME      1\n",
              "Name: count, dtype: int64"
            ]
          },
          "execution_count": 22,
          "metadata": {},
          "output_type": "execute_result"
        }
      ],
      "source": [
        "contagem_estado_reside = df['state'].value_counts()\n",
        "contagem_estado_reside"
      ]
    },
    {
      "cell_type": "code",
      "execution_count": 23,
      "metadata": {
        "colab": {
          "base_uri": "https://localhost:8080/"
        },
        "id": "0U1qxrVP8cap",
        "outputId": "7aa8f214-2992-4d5e-f518-17ea1d3eba10"
      },
      "outputs": [
        {
          "name": "stdout",
          "output_type": "stream",
          "text": [
            "state\n",
            "CA    51\n",
            "WA    29\n",
            "NY    18\n",
            "TN    15\n",
            "IL    13\n",
            "PA    11\n",
            "OR    11\n",
            "IN    10\n",
            "TX     9\n",
            "MI     8\n",
            "OH     8\n",
            "MN     8\n",
            "WI     6\n",
            "NC     5\n",
            "FL     4\n",
            "AL     4\n",
            "MO     3\n",
            "AZ     3\n",
            "GA     3\n",
            "UT     3\n",
            "MA     3\n",
            "VA     3\n",
            "MD     2\n",
            "CO     2\n",
            "NJ     2\n",
            "NH     2\n",
            "NE     1\n",
            "DC     1\n",
            "WY     1\n",
            "SC     1\n",
            "ID     1\n",
            "OK     1\n",
            "SD     1\n",
            "IA     1\n",
            "ME     1\n",
            "Name: count, dtype: int64\n"
          ]
        }
      ],
      "source": [
        "# Filtro para pessoas com histórico familiar e que buscaram tratamento\n",
        "pessoas_com_historico_e_tratamento = df[(df['family_history'] == 'Yes') & (df['treatment'] == 'Yes')]\n",
        "\n",
        "\n",
        "# Tabela de contagem das regiões\n",
        "contagem_estados = pessoas_com_historico_e_tratamento['state'].value_counts()\n",
        "print(contagem_estados)"
      ]
    },
    {
      "cell_type": "code",
      "execution_count": 24,
      "metadata": {
        "colab": {
          "base_uri": "https://localhost:8080/",
          "height": 481
        },
        "id": "08VY2VFT8mKY",
        "outputId": "fa6bea08-642d-4248-f153-dbc0814f0f3b"
      },
      "outputs": [
        {
          "data": {
            "image/png": "[encoded data removed]",
            "text/plain": [
              "<Figure size 640x480 with 1 Axes>"
            ]
          },
          "metadata": {},
          "output_type": "display_data"
        }
      ],
      "source": [
        "contagem_estados.plot(kind='bar', color='purple')\n",
        "plt.xlabel('Estado')\n",
        "plt.ylabel('Número de Pessoas')\n",
        "plt.title('Distribuição de Pessoas com Histórico Familiar e Tratamento por Estado')\n",
        "plt.show()"
      ]
    },
    {
      "cell_type": "markdown",
      "metadata": {
        "id": "-WxwMSId9RRc"
      },
      "source": [
        "Com essa sequencia de analises, notamos que 249 pessoas dos Estados Unidos responderam sim para as perguntas relacionadas a saúde mental.\n",
        "\n",
        "Indo mais afundo, podemos observar que a maior parte das pessoas que residem nos Estados Unidos e responderam sim são dos Estados da California (51 responderam sim), Washington (29 responderam sim) e Nova York (18 responderam sim), somando obtemos 98 de 248 pessoas.\n",
        "\n",
        "É válido destacar também a quantidade de pessoas que participaram da pesquisa e são destes 3 Estados, 138, 70, 57, respectivamente.\n",
        "\n",
        "Ou seja, grande parcela dos individuos que responderam a pesquisa e moram nesse Estado já procuraram por tratamento e tem histórico familiar."
      ]
    },
    {
      "cell_type": "markdown",
      "metadata": {
        "id": "PK1nSH6c--Ol"
      },
      "source": [
        "Vamos abordar agora a questão do ambiente de trabalho e se ele oferece os devidos suportes"
      ]
    },
    {
      "cell_type": "code",
      "execution_count": 25,
      "metadata": {
        "colab": {
          "base_uri": "https://localhost:8080/"
        },
        "id": "Gm2M8K_n_Jf9",
        "outputId": "fbb6c83b-d4f2-4d14-b788-9b67f37cb675"
      },
      "outputs": [
        {
          "data": {
            "text/plain": [
              "work_interfere\n",
              "Sometimes    464\n",
              "Never        212\n",
              "Rarely       173\n",
              "Often        140\n",
              "Name: count, dtype: int64"
            ]
          },
          "execution_count": 25,
          "metadata": {},
          "output_type": "execute_result"
        }
      ],
      "source": [
        "saude_mental_compromete_o_trabalho = df['work_interfere'].value_counts()\n",
        "saude_mental_compromete_o_trabalho"
      ]
    },
    {
      "cell_type": "markdown",
      "metadata": {
        "id": "BpLyXTbMAdAT"
      },
      "source": [
        "Fazendo uma contagem para observar quantas pessoas responderam se a saúde mental interfere no trabalho\n",
        "\n",
        "Podemos observar que a maioria das respostas foram de que influencia de alguma maneira."
      ]
    },
    {
      "cell_type": "code",
      "execution_count": 26,
      "metadata": {
        "colab": {
          "base_uri": "https://localhost:8080/"
        },
        "id": "MMkOkHRCA0rB",
        "outputId": "6b655f30-bf85-4200-a813-a1c41baf5387"
      },
      "outputs": [
        {
          "data": {
            "text/plain": [
              "no_employees\n",
              "6-25              289\n",
              "26-100            288\n",
              "More than 1000    281\n",
              "100-500           175\n",
              "1-5               158\n",
              "500-1000           60\n",
              "Name: count, dtype: int64"
            ]
          },
          "execution_count": 26,
          "metadata": {},
          "output_type": "execute_result"
        }
      ],
      "source": [
        "quantidade_de_funcionarios = df['no_employees'].value_counts()\n",
        "quantidade_de_funcionarios"
      ]
    },
    {
      "cell_type": "code",
      "execution_count": 27,
      "metadata": {
        "colab": {
          "base_uri": "https://localhost:8080/"
        },
        "id": "6bpuKsSzBLuM",
        "outputId": "1d84fd0b-5ac6-4b70-c56f-4b5cf5b24ad3"
      },
      "outputs": [
        {
          "name": "stdout",
          "output_type": "stream",
          "text": [
            "no_employees    1-5  100-500  26-100  500-1000  6-25  More than 1000  Total\n",
            "work_interfere                                                             \n",
            "Never            22       30      53        16    44              47    212\n",
            "Often            23       15      35         1    39              27    140\n",
            "Rarely           22       29      29         9    41              43    173\n",
            "Sometimes        71       66     111        18    94             104    464\n",
            "Total           138      140     228        44   218             221    989\n"
          ]
        }
      ],
      "source": [
        "tabela_contingencia = pd.crosstab(df['work_interfere'], df['no_employees'], margins=True, margins_name='Total')\n",
        "\n",
        "print(tabela_contingencia)\n"
      ]
    },
    {
      "cell_type": "markdown",
      "metadata": {},
      "source": [
        "Observa-se que quanto maior a empresa maior a quantidade de pessoas que responderam não para a pergunta se a saúde mental interfere no trabalho."
      ]
    },
    {
      "cell_type": "code",
      "execution_count": 28,
      "metadata": {
        "colab": {
          "base_uri": "https://localhost:8080/"
        },
        "id": "q6JXdPLPBc91",
        "outputId": "519dc437-c866-4f35-e779-6cbdbd70148b"
      },
      "outputs": [
        {
          "data": {
            "text/plain": [
              "benefits\n",
              "Yes           473\n",
              "Don't know    407\n",
              "No            371\n",
              "Name: count, dtype: int64"
            ]
          },
          "execution_count": 28,
          "metadata": {},
          "output_type": "execute_result"
        }
      ],
      "source": [
        "empresa_oferece_beneficio = df['benefits'].value_counts()\n",
        "empresa_oferece_beneficio"
      ]
    },
    {
      "cell_type": "code",
      "execution_count": 29,
      "metadata": {
        "colab": {
          "base_uri": "https://localhost:8080/",
          "height": 206
        },
        "id": "073tafbWBlM_",
        "outputId": "1e168e03-1452-4ec3-88a6-182632ad3667"
      },
      "outputs": [
        {
          "data": {
            "text/html": [
              "<div>\n",
              "<style scoped>\n",
              "    .dataframe tbody tr th:only-of-type {\n",
              "        vertical-align: middle;\n",
              "    }\n",
              "\n",
              "    .dataframe tbody tr th {\n",
              "        vertical-align: top;\n",
              "    }\n",
              "\n",
              "    .dataframe thead th {\n",
              "        text-align: right;\n",
              "    }\n",
              "</style>\n",
              "<table border=\"1\" class=\"dataframe\">\n",
              "  <thead>\n",
              "    <tr style=\"text-align: right;\">\n",
              "      <th>no_employees</th>\n",
              "      <th>1-5</th>\n",
              "      <th>100-500</th>\n",
              "      <th>26-100</th>\n",
              "      <th>500-1000</th>\n",
              "      <th>6-25</th>\n",
              "      <th>More than 1000</th>\n",
              "      <th>Total</th>\n",
              "    </tr>\n",
              "    <tr>\n",
              "      <th>benefits</th>\n",
              "      <th></th>\n",
              "      <th></th>\n",
              "      <th></th>\n",
              "      <th></th>\n",
              "      <th></th>\n",
              "      <th></th>\n",
              "      <th></th>\n",
              "    </tr>\n",
              "  </thead>\n",
              "  <tbody>\n",
              "    <tr>\n",
              "      <th>Don't know</th>\n",
              "      <td>32</td>\n",
              "      <td>64</td>\n",
              "      <td>114</td>\n",
              "      <td>21</td>\n",
              "      <td>98</td>\n",
              "      <td>78</td>\n",
              "      <td>407</td>\n",
              "    </tr>\n",
              "    <tr>\n",
              "      <th>No</th>\n",
              "      <td>109</td>\n",
              "      <td>32</td>\n",
              "      <td>73</td>\n",
              "      <td>4</td>\n",
              "      <td>132</td>\n",
              "      <td>21</td>\n",
              "      <td>371</td>\n",
              "    </tr>\n",
              "    <tr>\n",
              "      <th>Yes</th>\n",
              "      <td>17</td>\n",
              "      <td>79</td>\n",
              "      <td>101</td>\n",
              "      <td>35</td>\n",
              "      <td>59</td>\n",
              "      <td>182</td>\n",
              "      <td>473</td>\n",
              "    </tr>\n",
              "    <tr>\n",
              "      <th>Total</th>\n",
              "      <td>158</td>\n",
              "      <td>175</td>\n",
              "      <td>288</td>\n",
              "      <td>60</td>\n",
              "      <td>289</td>\n",
              "      <td>281</td>\n",
              "      <td>1251</td>\n",
              "    </tr>\n",
              "  </tbody>\n",
              "</table>\n",
              "</div>"
            ],
            "text/plain": [
              "no_employees  1-5  100-500  26-100  500-1000  6-25  More than 1000  Total\n",
              "benefits                                                                 \n",
              "Don't know     32       64     114        21    98              78    407\n",
              "No            109       32      73         4   132              21    371\n",
              "Yes            17       79     101        35    59             182    473\n",
              "Total         158      175     288        60   289             281   1251"
            ]
          },
          "execution_count": 29,
          "metadata": {},
          "output_type": "execute_result"
        }
      ],
      "source": [
        "tabela_contigencia = pd.crosstab(df['benefits'], df['no_employees'], margins=True, margins_name='Total')\n",
        "tabela_contigencia"
      ]
    },
    {
      "cell_type": "markdown",
      "metadata": {
        "id": "PcENpx1EB577"
      },
      "source": [
        "Observamos que quanto menor a empresa, menos a chance de ela oferecer beneficios relacionados a cuidado a saúde mental. Contudo quanto maior a empresa, maiores são as probabilidades."
      ]
    },
    {
      "cell_type": "markdown",
      "metadata": {
        "id": "USrhNfO1Bx9r"
      },
      "source": [
        "Analisando se as pessoas estariam dispostas a discutir problemas de saúde mental com companheiros de trabalho"
      ]
    },
    {
      "cell_type": "code",
      "execution_count": 30,
      "metadata": {
        "colab": {
          "base_uri": "https://localhost:8080/"
        },
        "id": "X-TsT0U2B7wU",
        "outputId": "c0e00d78-f412-4969-deec-1a8fd55f2e50"
      },
      "outputs": [
        {
          "data": {
            "text/plain": [
              "coworkers\n",
              "Some of them    771\n",
              "No              258\n",
              "Yes             222\n",
              "Name: count, dtype: int64"
            ]
          },
          "execution_count": 30,
          "metadata": {},
          "output_type": "execute_result"
        }
      ],
      "source": [
        "conversa_saude_com_companheiros = df['coworkers'].value_counts()\n",
        "conversa_saude_com_companheiros"
      ]
    },
    {
      "cell_type": "code",
      "execution_count": 31,
      "metadata": {
        "colab": {
          "base_uri": "https://localhost:8080/"
        },
        "id": "0MeC3PSFCPOX",
        "outputId": "71888caf-d58d-4465-ceb0-5dc25025f1d9"
      },
      "outputs": [
        {
          "data": {
            "text/plain": [
              "796"
            ]
          },
          "execution_count": 31,
          "metadata": {},
          "output_type": "execute_result"
        }
      ],
      "source": [
        "genero_masculino_que_conversam_sobre_saude = df[(df['coworkers'].isin(['Yes', 'Some of them'])) & (df['Gender'] == 'Male')]\n",
        "\n",
        "contagem = genero_masculino_que_conversam_sobre_saude.shape[0]\n",
        "\n",
        "contagem"
      ]
    },
    {
      "cell_type": "markdown",
      "metadata": {
        "id": "c4CAm1hFDfcM"
      },
      "source": [
        "Algumas observações até agora:\n",
        "\n",
        "Notamos que a maior parte das pessoas que tem histórico de problemas relacionados a saúde mental são do genêro masculino e a maior parte das pessoas que conversam sobre saúde mental com seus colegas de trabalho também são do gênero masculino, com isso, pode-se 'quebrar' alguns estigmas que as pessoas relacionam sobre cuidado mental com o genêro masculino."
      ]
    },
    {
      "cell_type": "code",
      "execution_count": 32,
      "metadata": {
        "colab": {
          "base_uri": "https://localhost:8080/"
        },
        "id": "Fjcw6uEhGlui",
        "outputId": "7985590e-b8c5-4f9e-f358-8705dc4cc0d2"
      },
      "outputs": [
        {
          "data": {
            "text/plain": [
              "mental_vs_physical\n",
              "Don't know    574\n",
              "Yes           339\n",
              "No            338\n",
              "Name: count, dtype: int64"
            ]
          },
          "execution_count": 32,
          "metadata": {},
          "output_type": "execute_result"
        }
      ],
      "source": [
        "saude_fisica_x_mental = df['mental_vs_physical'].value_counts()\n",
        "saude_fisica_x_mental"
      ]
    },
    {
      "cell_type": "markdown",
      "metadata": {
        "id": "n8xQYACxHAx6"
      },
      "source": [
        "Fazer uma comparação se o tamanho da empresa influencia no debate da saúde mental; e se o tamanho da empresa influencia em comportamentos negativos em relação a condições mentais"
      ]
    },
    {
      "cell_type": "code",
      "execution_count": 33,
      "metadata": {
        "colab": {
          "base_uri": "https://localhost:8080/"
        },
        "id": "HtRVLOVjHVTK",
        "outputId": "e1eaa3b6-50cc-453b-d28b-3f8bfb930334"
      },
      "outputs": [
        {
          "data": {
            "text/plain": [
              "phys_health_interview\n",
              "Maybe    555\n",
              "No       496\n",
              "Yes      200\n",
              "Name: count, dtype: int64"
            ]
          },
          "execution_count": 33,
          "metadata": {},
          "output_type": "execute_result"
        }
      ],
      "source": [
        "saude_mental_na_entrevista = df['phys_health_interview'].value_counts()\n",
        "saude_mental_na_entrevista"
      ]
    },
    {
      "cell_type": "code",
      "execution_count": 34,
      "metadata": {
        "colab": {
          "base_uri": "https://localhost:8080/",
          "height": 206
        },
        "id": "f_uHKm4GHmay",
        "outputId": "25a440aa-2517-4ece-8fa7-89a6310906d5"
      },
      "outputs": [
        {
          "data": {
            "text/html": [
              "<div>\n",
              "<style scoped>\n",
              "    .dataframe tbody tr th:only-of-type {\n",
              "        vertical-align: middle;\n",
              "    }\n",
              "\n",
              "    .dataframe tbody tr th {\n",
              "        vertical-align: top;\n",
              "    }\n",
              "\n",
              "    .dataframe thead th {\n",
              "        text-align: right;\n",
              "    }\n",
              "</style>\n",
              "<table border=\"1\" class=\"dataframe\">\n",
              "  <thead>\n",
              "    <tr style=\"text-align: right;\">\n",
              "      <th>no_employees</th>\n",
              "      <th>1-5</th>\n",
              "      <th>100-500</th>\n",
              "      <th>26-100</th>\n",
              "      <th>500-1000</th>\n",
              "      <th>6-25</th>\n",
              "      <th>More than 1000</th>\n",
              "      <th>Total</th>\n",
              "    </tr>\n",
              "    <tr>\n",
              "      <th>phys_health_interview</th>\n",
              "      <th></th>\n",
              "      <th></th>\n",
              "      <th></th>\n",
              "      <th></th>\n",
              "      <th></th>\n",
              "      <th></th>\n",
              "      <th></th>\n",
              "    </tr>\n",
              "  </thead>\n",
              "  <tbody>\n",
              "    <tr>\n",
              "      <th>Maybe</th>\n",
              "      <td>72</td>\n",
              "      <td>80</td>\n",
              "      <td>139</td>\n",
              "      <td>15</td>\n",
              "      <td>142</td>\n",
              "      <td>107</td>\n",
              "      <td>555</td>\n",
              "    </tr>\n",
              "    <tr>\n",
              "      <th>No</th>\n",
              "      <td>61</td>\n",
              "      <td>71</td>\n",
              "      <td>98</td>\n",
              "      <td>36</td>\n",
              "      <td>100</td>\n",
              "      <td>130</td>\n",
              "      <td>496</td>\n",
              "    </tr>\n",
              "    <tr>\n",
              "      <th>Yes</th>\n",
              "      <td>25</td>\n",
              "      <td>24</td>\n",
              "      <td>51</td>\n",
              "      <td>9</td>\n",
              "      <td>47</td>\n",
              "      <td>44</td>\n",
              "      <td>200</td>\n",
              "    </tr>\n",
              "    <tr>\n",
              "      <th>Total</th>\n",
              "      <td>158</td>\n",
              "      <td>175</td>\n",
              "      <td>288</td>\n",
              "      <td>60</td>\n",
              "      <td>289</td>\n",
              "      <td>281</td>\n",
              "      <td>1251</td>\n",
              "    </tr>\n",
              "  </tbody>\n",
              "</table>\n",
              "</div>"
            ],
            "text/plain": [
              "no_employees           1-5  100-500  26-100  500-1000  6-25  More than 1000  \\\n",
              "phys_health_interview                                                         \n",
              "Maybe                   72       80     139        15   142             107   \n",
              "No                      61       71      98        36   100             130   \n",
              "Yes                     25       24      51         9    47              44   \n",
              "Total                  158      175     288        60   289             281   \n",
              "\n",
              "no_employees           Total  \n",
              "phys_health_interview         \n",
              "Maybe                    555  \n",
              "No                       496  \n",
              "Yes                      200  \n",
              "Total                   1251  "
            ]
          },
          "execution_count": 34,
          "metadata": {},
          "output_type": "execute_result"
        }
      ],
      "source": [
        "tabela_contigencia = pd.crosstab(df['phys_health_interview'], df['no_employees'], margins=True, margins_name='Total')\n",
        "tabela_contigencia"
      ]
    },
    {
      "cell_type": "markdown",
      "metadata": {
        "id": "qEBy9CuKH3K9"
      },
      "source": [
        "Observa-se que quanto menor a empresa mais respostas para 'sim', foram recebidas."
      ]
    },
    {
      "cell_type": "code",
      "execution_count": 35,
      "metadata": {
        "colab": {
          "base_uri": "https://localhost:8080/"
        },
        "id": "EbjbJD8kH_8O",
        "outputId": "c31808b4-b6f2-441c-f9fa-090cb4c0fa6a"
      },
      "outputs": [
        {
          "data": {
            "text/plain": [
              "obs_consequence\n",
              "No     1070\n",
              "Yes     181\n",
              "Name: count, dtype: int64"
            ]
          },
          "execution_count": 35,
          "metadata": {},
          "output_type": "execute_result"
        }
      ],
      "source": [
        "consequencia_negativa = df['obs_consequence'].value_counts()\n",
        "consequencia_negativa"
      ]
    },
    {
      "cell_type": "code",
      "execution_count": 36,
      "metadata": {
        "colab": {
          "base_uri": "https://localhost:8080/",
          "height": 175
        },
        "id": "0NJo2F45IQqt",
        "outputId": "cbf9bc6e-b009-49b7-9832-fe803f921080"
      },
      "outputs": [
        {
          "data": {
            "text/html": [
              "<div>\n",
              "<style scoped>\n",
              "    .dataframe tbody tr th:only-of-type {\n",
              "        vertical-align: middle;\n",
              "    }\n",
              "\n",
              "    .dataframe tbody tr th {\n",
              "        vertical-align: top;\n",
              "    }\n",
              "\n",
              "    .dataframe thead th {\n",
              "        text-align: right;\n",
              "    }\n",
              "</style>\n",
              "<table border=\"1\" class=\"dataframe\">\n",
              "  <thead>\n",
              "    <tr style=\"text-align: right;\">\n",
              "      <th>no_employees</th>\n",
              "      <th>1-5</th>\n",
              "      <th>100-500</th>\n",
              "      <th>26-100</th>\n",
              "      <th>500-1000</th>\n",
              "      <th>6-25</th>\n",
              "      <th>More than 1000</th>\n",
              "      <th>Total</th>\n",
              "    </tr>\n",
              "    <tr>\n",
              "      <th>obs_consequence</th>\n",
              "      <th></th>\n",
              "      <th></th>\n",
              "      <th></th>\n",
              "      <th></th>\n",
              "      <th></th>\n",
              "      <th></th>\n",
              "      <th></th>\n",
              "    </tr>\n",
              "  </thead>\n",
              "  <tbody>\n",
              "    <tr>\n",
              "      <th>No</th>\n",
              "      <td>129</td>\n",
              "      <td>150</td>\n",
              "      <td>248</td>\n",
              "      <td>51</td>\n",
              "      <td>263</td>\n",
              "      <td>229</td>\n",
              "      <td>1070</td>\n",
              "    </tr>\n",
              "    <tr>\n",
              "      <th>Yes</th>\n",
              "      <td>29</td>\n",
              "      <td>25</td>\n",
              "      <td>40</td>\n",
              "      <td>9</td>\n",
              "      <td>26</td>\n",
              "      <td>52</td>\n",
              "      <td>181</td>\n",
              "    </tr>\n",
              "    <tr>\n",
              "      <th>Total</th>\n",
              "      <td>158</td>\n",
              "      <td>175</td>\n",
              "      <td>288</td>\n",
              "      <td>60</td>\n",
              "      <td>289</td>\n",
              "      <td>281</td>\n",
              "      <td>1251</td>\n",
              "    </tr>\n",
              "  </tbody>\n",
              "</table>\n",
              "</div>"
            ],
            "text/plain": [
              "no_employees     1-5  100-500  26-100  500-1000  6-25  More than 1000  Total\n",
              "obs_consequence                                                             \n",
              "No               129      150     248        51   263             229   1070\n",
              "Yes               29       25      40         9    26              52    181\n",
              "Total            158      175     288        60   289             281   1251"
            ]
          },
          "execution_count": 36,
          "metadata": {},
          "output_type": "execute_result"
        }
      ],
      "source": [
        "tabela_contigencia = pd.crosstab(df['obs_consequence'], df['no_employees'], margins=True, margins_name='Total')\n",
        "tabela_contigencia"
      ]
    },
    {
      "cell_type": "markdown",
      "metadata": {
        "id": "eZS9aoDbIeB4"
      },
      "source": [
        "Observa-se também que quanto menor a empresa maiores foram as ocorrencias negativas."
      ]
    },
    {
      "cell_type": "markdown",
      "metadata": {},
      "source": [
        "### Conclusão\n",
        "\n",
        "Com base na análise realizada dos dados da pesquisa sobre saúde mental no local de trabalho em 2014, podemos tirar algumas conclusões e observações importantes:\n",
        "\n",
        "1. **Idade e Gênero**: A maioria dos respondentes da pesquisa era do gênero masculino, com uma idade média de cerca de 32 anos.\n",
        "\n",
        "2. **Histórico Familiar e Busca de Tratamento**: A maioria dos participantes não tinha histórico familiar de doenças mentais, mas muitos deles buscaram tratamento para problemas de saúde mental. Isso sugere que as doenças mentais podem ser percebidas de maneira independente do histórico familiar.\n",
        "\n",
        "3. **Localização Geográfica**: A pesquisa foi realizada principalmente nos Estados Unidos, com uma concentração significativa na Califórnia, Washington e Nova York. Portanto, as conclusões podem se aplicar principalmente a esse contexto geográfico.\n",
        "\n",
        "4. **Ambiente de Trabalho**: A maioria dos participantes relatou que a saúde mental afetou seu trabalho. No entanto, as empresas de maior porte parecem estar menos dispostas a abordar a questão da saúde mental em entrevistas de emprego, embora sejam mais propensas a oferecer benefícios de saúde mental. \n",
        "\n",
        "5. **Quebra de Estigma**: É notável que a maioria dos respondentes, principalmente do gênero masculino, afirmou se sentir confortável discutindo problemas de saúde mental com seus colegas de trabalho. Isso pode refletir uma crescente quebra de estigma em relação à saúde mental no local de trabalho, especialmente em um setor como a tecnologia.\n",
        "\n",
        "6. **Importância da Saúde Mental**: A maioria dos respondentes concordou que a saúde mental é tão importante quanto a saúde física, destacando um aumento na conscientização sobre a importância da saúde mental."
      ]
    }
  ],
  "metadata": {
    "colab": {
      "provenance": []
    },
    "kernelspec": {
      "display_name": "Python 3",
      "name": "python3"
    },
    "language_info": {
      "codemirror_mode": {
        "name": "ipython",
        "version": 3
      },
      "file_extension": ".py",
      "mimetype": "text/x-python",
      "name": "python",
      "nbconvert_exporter": "python",
      "pygments_lexer": "ipython3",
      "version": "3.10.12"
    }
  },
  "nbformat": 4,
  "nbformat_minor": 0
}
